{
 "cells": [
  {
   "cell_type": "markdown",
   "metadata": {},
   "source": [
    "# Importing Required Libraries"
   ]
  },
  {
   "cell_type": "code",
   "execution_count": null,
   "metadata": {},
   "outputs": [],
   "source": [
    "import pandas as pd\n",
    "\n",
    "df = pd.read_csv('LLM-Sample-Input-File.csv')"
   ]
  },
  {
   "cell_type": "markdown",
   "metadata": {},
   "source": [
    "\n",
    "# Loading and Preprocessing the Data"
   ]
  },
  {
   "cell_type": "code",
   "execution_count": null,
   "metadata": {},
   "outputs": [],
   "source": [
    "df['Period'] = df['Period'].apply(lambda x: ' '.join(reversed(x.split())) if ' ' in x else x[-2:] + ' ' + x[:-2])\n",
    "\n",
    "context = \"\"\n",
    "for index, row in df.iterrows():\n",
    "    if row['Category'] == 'Revenue By Product':\n",
    "        context += f\"{row['Company Name']} made a revenue of {row[' Value - Randomized ']} from selling {row['Sub Cat']} in {row['Period']}.\\n\"\n",
    "    elif row['Category'] == 'Revenue By Region':\n",
    "        context += f\"{row['Company Name']} made a revenue of {row[' Value - Randomized ']} from {row['Sub Cat']} in {row['Period']}.\\n\"\n",
    "\n",
    "print(context)"
   ]
  },
  {
   "cell_type": "markdown",
   "metadata": {},
   "source": [
    "\n",
    "# Generating Context from Data"
   ]
  },
  {
   "cell_type": "code",
   "execution_count": null,
   "metadata": {},
   "outputs": [],
   "source": [
    "from transformers import pipeline\n",
    "\n",
    "nlp = pipeline('question-answering', model='bert-large-uncased-whole-word-masking-finetuned-squad')\n",
    "\n",
    "question = input(\"Please enter your question: \")\n",
    "\n",
    "answer = nlp(question=question, context=context)\n",
    "print(answer['answer'])"
   ]
  }
 ],
 "metadata": {
  "kernelspec": {
   "display_name": "Python 3 (ipykernel)",
   "language": "python",
   "name": "python3"
  },
  "language_info": {
   "codemirror_mode": {
    "name": "ipython",
    "version": 3
   },
   "file_extension": ".py",
   "mimetype": "text/x-python",
   "name": "python",
   "nbconvert_exporter": "python",
   "pygments_lexer": "ipython3",
   "version": "3.9.7"
  }
 },
 "nbformat": 4,
 "nbformat_minor": 2
}
